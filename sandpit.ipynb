{
 "cells": [
  {
   "cell_type": "markdown",
   "id": "4161e23e-b687-4ef1-99b1-062325093577",
   "metadata": {},
   "source": [
    "dane pobrane z kaggle  https://www.kaggle.com/datasets/mlg-ulb/creditcardfraud?select=creditcard.csv"
   ]
  },
  {
   "cell_type": "code",
   "execution_count": 1,
   "id": "5e9e1d93-ef86-4b12-aeaa-725454e1cfe2",
   "metadata": {},
   "outputs": [],
   "source": [
    "import pandas as pd\n",
    "import numpy as np\n",
    "\n",
    "dataset = pd.read_csv(\"creditcard.csv\")"
   ]
  },
  {
   "cell_type": "code",
   "execution_count": null,
   "id": "535abf66-914d-4a56-be87-83bf38f4f12c",
   "metadata": {},
   "outputs": [],
   "source": [
    "# przyglądnę się danym i ewentualnie zredukuję listę zmiennych\n",
    "from dataprep.eda import create_report\n",
    "\n",
    "report = create_report(dataset, title='EDA dla zbioru fraudów kart kredytowych')\n",
    "# przenoszę do przeglądarki\n",
    "report.save( \"EDA_dla_KK.html\")\n",
    "report.show_browser()\n",
    "report.show()"
   ]
  },
  {
   "cell_type": "code",
   "execution_count": 3,
   "id": "115db3c6-f947-417f-9ea6-c009a39a404f",
   "metadata": {},
   "outputs": [
    {
     "name": "stdout",
     "output_type": "stream",
     "text": [
      "Czy są jakiekolwiek nulle w zbiorze danych  False\n",
      "-------\n",
      "Liczba unikatowych kategorii celu  2\n",
      "Wartości zmiennej celu  [0 1]\n",
      "-------\n",
      "Rozkład transkacji\n",
      "0    284315\n",
      "1       492\n",
      "Name: Class, dtype: int64\n"
     ]
    }
   ],
   "source": [
    "#I jeszcze kilka najważniejszych informacji poza raportem, żeby nie wchodzić do niego za każdym razem\n",
    "#check for any  nullvalues \n",
    "print(\"Czy są jakiekolwiek nulle w zbiorze danych \",dataset.isnull().values.any() )\n",
    "print('-------')\n",
    "print(\"Liczba unikatowych kategorii celu \", len(dataset['Class'].unique()))\n",
    "print(\"Wartości zmiennej celu \",dataset.Class.unique())\n",
    "#0 prawidłowa transakcja KK\n",
    "#1 transakcja fraudowa\n",
    "print('-------')\n",
    "print(\"Rozkład transkacji\")\n",
    "print(pd.value_counts(dataset['Class'], sort = True) )\n"
   ]
  },
  {
   "cell_type": "markdown",
   "id": "c4eaf0c0-7f1d-4a98-a9c5-ba1c46b27bcd",
   "metadata": {},
   "source": [
    "W pierszej kolejności analiza nadzorowana. W tym celu wykorzystam metodę ADASYN oversamplingu, która skupia się na powielaniu elementów właśnie odstających co spowoduje wyeksponowanie właśnie nietypowych transakcji"
   ]
  },
  {
   "cell_type": "code",
   "execution_count": 4,
   "id": "fe60c97d-c162-44d7-b901-6316728ce89d",
   "metadata": {},
   "outputs": [],
   "source": [
    "# 1. Rozdzoelam zbiór na charakrerystyki roaz zmienną celu \n",
    "\n",
    "\n",
    "y = pd.Series(dataset['Class'])\n",
    "X = dataset.drop('Class', axis=1)\n",
    "#X.drop('ID', axis=1, inplace=True)\n"
   ]
  },
  {
   "cell_type": "code",
   "execution_count": 7,
   "id": "1d6f00c2-4ab3-4294-bc4c-5a09f6431e0c",
   "metadata": {},
   "outputs": [],
   "source": [
    "from imblearn.over_sampling import ADASYN\n",
    "from sklearn.model_selection import train_test_split\n",
    "\n",
    "X_train, X_test, y_train, y_test = train_test_split(X, y, test_size=0.20, random_state=128262)\n",
    "\n",
    "osa = ADASYN(random_state=128262)\n",
    "kolumny = X_train.columns\n",
    "\n",
    "\n",
    "osa_data_X, osa_data_y=osa.fit_resample(X_train, y_train)\n",
    "osa_data_X = pd.DataFrame(data=osa_data_X, columns=kolumny)\n",
    "osa_data_y= pd.DataFrame(data=osa_data_y, columns=['Class'])\n"
   ]
  },
  {
   "cell_type": "code",
   "execution_count": 8,
   "id": "115eb673-8985-4ada-9d70-d0c0f30001ff",
   "metadata": {},
   "outputs": [
    {
     "name": "stdout",
     "output_type": "stream",
     "text": [
      "Długość zbioru nadpróbkowego: 455048\n",
      "Liczba pozytywnych targetów: 227600\n",
      "Liczba negatywnych targetów: 227448\n",
      "Proporcja pozytywnych targetów: 0.5001670153478315\n",
      "Proporcja negatywnych targetów: 0.4998329846521686\n"
     ]
    }
   ],
   "source": [
    "# sprawdzenie czy dane zostały zbalansowane\n",
    "print(\"Długość zbioru nadpróbkowego:\",len(osa_data_X))\n",
    "print(\"Liczba pozytywnych targetów:\",len(osa_data_y[osa_data_y['Class']==1]))\n",
    "print(\"Liczba negatywnych targetów:\",len(osa_data_y[osa_data_y['Class']==0]))\n",
    "print(\"Proporcja pozytywnych targetów:\",len(osa_data_y[osa_data_y['Class']==1])/len(osa_data_X))\n",
    "print(\"Proporcja negatywnych targetów:\",len(osa_data_y[osa_data_y['Class']==0])/len(osa_data_X))"
   ]
  },
  {
   "cell_type": "code",
   "execution_count": 12,
   "id": "df609689-9fd6-4d12-915c-be124252a32e",
   "metadata": {},
   "outputs": [
    {
     "data": {
      "image/png": "[encoded data removed]",
      "text/plain": [
       "<Figure size 432x288 with 1 Axes>"
      ]
     },
     "metadata": {
      "needs_background": "light"
     },
     "output_type": "display_data"
    }
   ],
   "source": [
    "import seaborn as sns\n",
    "import matplotlib.pyplot as plt\n",
    "\n",
    "sns.countplot(x= 'Class', data=osa_data_y,  palette='hls')\n",
    "plt.show()"
   ]
  },
  {
   "cell_type": "markdown",
   "id": "bd530c98-bcd7-4aa4-a1c1-faa182ecac25",
   "metadata": {},
   "source": [
    "####Bubujemy model z losowo dobranymi hiperparametramiimport xgboost as xgb"
   ]
  },
  {
   "cell_type": "code",
   "execution_count": 16,
   "id": "d74b2486-ba68-4912-9f1b-4570acc04119",
   "metadata": {},
   "outputs": [
    {
     "name": "stdout",
     "output_type": "stream",
     "text": [
      "Dokładność dla zbioru walidacyjnego: 0.9975\n",
      "Dokładność dla zbioru traningowego oryginalnego: 0.9982\n",
      "Dokładność dla zbioru traningowego zbalansowanego: 0.9989\n",
      "Precision dla zbioru walidacyjnego: 0.3905\n",
      "Precision dla zbioru traningowego oryginalnego: 0.4943\n",
      "Precision dla zbioru traningowego zbalansowanego: 0.9982\n",
      "Recall dla zbioru walidacyjnego: 0.8632\n",
      "Recall dla zbioru traningowego oryginalnego: 0.9824\n",
      "Recall dla zbioru traningowego zbalansowanego: 0.9995\n",
      "Wartość parametru Gini na zbiorze walidacyjnym to: 0.9765\n",
      "Wartość parametru Gini na zbiorze treningowym to: 0.9998\n",
      "Wartość parametru Gini na zbiorze zbalansowanym to: 0.9999\n",
      "\n",
      "ROC Curve\n",
      "<sklearn.metrics._plot.roc_curve.RocCurveDisplay object at 0x00000226CCC733D0>\n",
      "\n",
      "Confusion Matrix\n",
      "<sklearn.metrics._plot.confusion_matrix.ConfusionMatrixDisplay object at 0x000002268A074880>\n"
     ]
    },
    {
     "data": {
      "image/png": "[encoded data removed]",
      "text/plain": [
       "<Figure size 432x288 with 1 Axes>"
      ]
     },
     "metadata": {
      "needs_background": "light"
     },
     "output_type": "display_data"
    },
    {
     "data": {
      "image/png": "[encoded data removed]",
      "text/plain": [
       "<Figure size 432x288 with 2 Axes>"
      ]
     },
     "metadata": {
      "needs_background": "light"
     },
     "output_type": "display_data"
    }
   ],
   "source": [
    "import xgboost as xgb\n",
    "from sklearn.metrics import accuracy_score\n",
    "from sklearn.metrics import RocCurveDisplay\n",
    "from sklearn.metrics import confusion_matrix, ConfusionMatrixDisplay\n",
    "from sklearn.metrics import auc\n",
    "from sklearn.metrics import roc_auc_score\n",
    "from sklearn.metrics import precision_score, recall_score\n",
    "\n",
    "xgb_clf = xgb.XGBClassifier(max_depth=3,\n",
    "                            n_estimators=100,\n",
    "                            objective='binary:logistic',\n",
    "                            booster='gbtree',\n",
    "                            n_jobs=-1,\n",
    "                            random_state=1)\n",
    "\n",
    "# uczymy model, korzystamy z API sklearn\n",
    "xgb_clf.fit(osa_data_X, osa_data_y)\n",
    "\n",
    "# przeliczamy skoringi na zbiorze testowym aby sprawdzić jakość modelu w rozumieniu interesujących mnie miar\n",
    "y_hat = xgb_clf.predict(X_test)\n",
    "\n",
    "auc_val = roc_auc_score(y_test, xgb_clf.predict_proba(X_test)[:, 1])\n",
    "auc_train = roc_auc_score(y_train, xgb_clf.predict_proba(X_train)[:, 1])\n",
    "auc_train_osa = roc_auc_score(osa_data_y, xgb_clf.predict_proba(osa_data_X)[:, 1])\n",
    "\n",
    "\n",
    "print(\"Dokładność dla zbioru walidacyjnego: {0:.4f}\".format(accuracy_score(y_test, y_hat)))\n",
    "print(\"Dokładność dla zbioru traningowego oryginalnego: {0:.4f}\".format(accuracy_score(y_train, xgb_clf.predict(X_train))))\n",
    "print(\"Dokładność dla zbioru traningowego zbalansowanego: {0:.4f}\".format(accuracy_score(osa_data_y, xgb_clf.predict(osa_data_X))))\n",
    "\n",
    "# w tym wypadku nas najbardziej interesować będzie recall czyli ile nam udało się namierzyć fraudów, precyzja i accuracy już trochę mniej\n",
    "\n",
    "print(\"Precision dla zbioru walidacyjnego: {0:.4f}\".format(precision_score(y_test, y_hat)))\n",
    "print(\"Precision dla zbioru traningowego oryginalnego: {0:.4f}\".format(precision_score(y_train, xgb_clf.predict(X_train))))\n",
    "print(\"Precision dla zbioru traningowego zbalansowanego: {0:.4f}\".format(precision_score(osa_data_y, xgb_clf.predict(osa_data_X))))\n",
    "\n",
    "print(\"Recall dla zbioru walidacyjnego: {0:.4f}\".format(recall_score(y_test, y_hat)))\n",
    "print(\"Recall dla zbioru traningowego oryginalnego: {0:.4f}\".format(recall_score(y_train, xgb_clf.predict(X_train))))\n",
    "print(\"Recall dla zbioru traningowego zbalansowanego: {0:.4f}\".format(recall_score(osa_data_y, xgb_clf.predict(osa_data_X))))\n",
    "\n",
    "\n",
    "\n",
    "print(\"Wartość parametru Gini na zbiorze walidacyjnym to: {0:.4f}\".format(2*auc_val-1)) # Gini = 2*AUC-1\n",
    "print(\"Wartość parametru Gini na zbiorze treningowym to: {0:.4f}\".format(2*auc_train-1)) # Gini = 2*AUC-1\n",
    "print(\"Wartość parametru Gini na zbiorze zbalansowanym to: {0:.4f}\".format(2*auc_train_osa-1)) # Gini = 2*AUC-1\n",
    "\n",
    "\n",
    "print(\"\\nROC Curve\")\n",
    "print(RocCurveDisplay.from_estimator(xgb_clf, X_test, y_test))\n",
    "#RocCurveDisplay.from_estimator(xgb_clf, X_test, y_test)\n",
    "#plt.savefig(r\"E:\\page_ds\\XGBoost_step_by_step\\foto\\2_ROC_cur_clf.png\", format=\"png\" , dpi=300, facecolor=\"White\")\n",
    "\n",
    "print(\"\\nConfusion Matrix\")\n",
    "cm = confusion_matrix(y_test, y_hat, labels=xgb_clf.classes_)\n",
    "disp = ConfusionMatrixDisplay(confusion_matrix=cm,\n",
    "                              display_labels=xgb_clf.classes_)\n",
    "print(disp.plot())\n",
    "#wyk = disp.plot()\n",
    "#plt.savefig(r\"E:\\page_ds\\XGBoost_step_by_step\\foto\\1_conf_matrix_clf.png\", format=\"png\" , dpi=300, facecolor=\"White\")\n",
    "#lt.show()"
   ]
  },
  {
   "cell_type": "markdown",
   "id": "8dd62873-6a86-4db4-af9f-59664242cb30",
   "metadata": {},
   "source": [
    "Komentarze: \n",
    "    Precision dla zbioru walidacyjnego: 0.3905 czyli 60% ze wzkazanych transakcji będzie niezadowolona ze względu na np. zablokowanie tej transakcji, ale mimo wszystko wydaje się to mała skala (prawie 57k transakcji)\n",
    "    Recall dla zbioru walidacyjnego: 0.8632  - jak dla mnie świetnie, wychwyciliśmy ponad 86% fraudów \n",
    "    "
   ]
  },
  {
   "cell_type": "markdown",
   "id": "cd033ae8-a8b2-45c5-9481-b26ad6254893",
   "metadata": {},
   "source": [
    "### Powtarzam ćwiczenie ale wykorzystam teraz metodę SMOTE: "
   ]
  },
  {
   "cell_type": "code",
   "execution_count": 17,
   "id": "bc820f8a-d4c2-4a9b-a7c5-c1c213205e5a",
   "metadata": {},
   "outputs": [],
   "source": [
    "from imblearn.over_sampling import SMOTE\n",
    "\n",
    "oss = SMOTE(random_state=128262)\n",
    "\n",
    "oss_data_X, oss_data_y=oss.fit_resample(X_train, y_train)\n",
    "oss_data_X = pd.DataFrame(data=oss_data_X, columns=kolumny)\n",
    "oss_data_y= pd.DataFrame(data=oss_data_y, columns=['Class'])"
   ]
  },
  {
   "cell_type": "code",
   "execution_count": 18,
   "id": "8749bc01-17c2-4acd-8b8d-bbb6157adad7",
   "metadata": {},
   "outputs": [
    {
     "name": "stdout",
     "output_type": "stream",
     "text": [
      "Dokładność dla zbioru walidacyjnego: 0.9979\n",
      "Dokładność dla zbioru traningowego oryginalnego: 0.9985\n",
      "Dokładność dla zbioru traningowego zbalansowanego: 0.9989\n",
      "Precision dla zbioru walidacyjnego: 0.4323\n",
      "Precision dla zbioru traningowego oryginalnego: 0.5385\n",
      "Precision dla zbioru traningowego zbalansowanego: 0.9985\n",
      "Recall dla zbioru walidacyjnego: 0.8737\n",
      "Recall dla zbioru traningowego oryginalnego: 0.9874\n",
      "Recall dla zbioru traningowego zbalansowanego: 0.9993\n",
      "Wartość parametru Gini na zbiorze walidacyjnym to: 0.9754\n",
      "Wartość parametru Gini na zbiorze treningowym to: 0.9999\n",
      "Wartość parametru Gini na zbiorze zbalansowanym to: 0.9999\n",
      "\n",
      "ROC Curve\n",
      "<sklearn.metrics._plot.roc_curve.RocCurveDisplay object at 0x0000022683E48A90>\n",
      "\n",
      "Confusion Matrix\n",
      "<sklearn.metrics._plot.confusion_matrix.ConfusionMatrixDisplay object at 0x0000022684918730>\n"
     ]
    },
    {
     "data": {
      "image/png": "[encoded data removed]",
      "text/plain": [
       "<Figure size 432x288 with 1 Axes>"
      ]
     },
     "metadata": {
      "needs_background": "light"
     },
     "output_type": "display_data"
    },
    {
     "data": {
      "image/png": "[encoded data removed]",
      "text/plain": [
       "<Figure size 432x288 with 2 Axes>"
      ]
     },
     "metadata": {
      "needs_background": "light"
     },
     "output_type": "display_data"
    }
   ],
   "source": [
    "xgb_clf_oss = xgb.XGBClassifier(max_depth=3,\n",
    "                            n_estimators=100,\n",
    "                            objective='binary:logistic',\n",
    "                            booster='gbtree',\n",
    "                            n_jobs=-1,\n",
    "                            random_state=1)\n",
    "\n",
    "# uczymy model, korzystamy z API sklearn\n",
    "xgb_clf_oss.fit(oss_data_X, oss_data_y)\n",
    "\n",
    "# przeliczamy skoringi na zbiorze testowym aby sprawdzić jakość modelu w rozumieniu interesujących mnie miar\n",
    "y_hat_s = xgb_clf_oss.predict(X_test)\n",
    "\n",
    "auc_val_oss = roc_auc_score(y_test, xgb_clf_oss.predict_proba(X_test)[:, 1])\n",
    "auc_train_oss = roc_auc_score(y_train, xgb_clf_oss.predict_proba(X_train)[:, 1])\n",
    "auc_train_oss = roc_auc_score(oss_data_y, xgb_clf_oss.predict_proba(oss_data_X)[:, 1])\n",
    "\n",
    "\n",
    "print(\"Dokładność dla zbioru walidacyjnego: {0:.4f}\".format(accuracy_score(y_test, y_hat_s)))\n",
    "print(\"Dokładność dla zbioru traningowego oryginalnego: {0:.4f}\".format(accuracy_score(y_train, xgb_clf_oss.predict(X_train))))\n",
    "print(\"Dokładność dla zbioru traningowego zbalansowanego: {0:.4f}\".format(accuracy_score(osa_data_y, xgb_clf_oss.predict(osa_data_X))))\n",
    "\n",
    "# w tym wypadku nas najbardziej interesować będzie recall czyli ile nam udało się namierzyć fraudów, precyzja i accuracy już trochę mniej\n",
    "\n",
    "print(\"Precision dla zbioru walidacyjnego: {0:.4f}\".format(precision_score(y_test, y_hat_s)))\n",
    "print(\"Precision dla zbioru traningowego oryginalnego: {0:.4f}\".format(precision_score(y_train, xgb_clf_oss.predict(X_train))))\n",
    "print(\"Precision dla zbioru traningowego zbalansowanego: {0:.4f}\".format(precision_score(osa_data_y, xgb_clf_oss.predict(osa_data_X))))\n",
    "\n",
    "print(\"Recall dla zbioru walidacyjnego: {0:.4f}\".format(recall_score(y_test, y_hat_s)))\n",
    "print(\"Recall dla zbioru traningowego oryginalnego: {0:.4f}\".format(recall_score(y_train, xgb_clf_oss.predict(X_train))))\n",
    "print(\"Recall dla zbioru traningowego zbalansowanego: {0:.4f}\".format(recall_score(osa_data_y, xgb_clf_oss.predict(osa_data_X))))\n",
    "\n",
    "\n",
    "\n",
    "print(\"Wartość parametru Gini na zbiorze walidacyjnym to: {0:.4f}\".format(2*auc_val_oss-1)) # Gini = 2*AUC-1\n",
    "print(\"Wartość parametru Gini na zbiorze treningowym to: {0:.4f}\".format(2*auc_train_oss-1)) # Gini = 2*AUC-1\n",
    "print(\"Wartość parametru Gini na zbiorze zbalansowanym to: {0:.4f}\".format(2*auc_train_oss-1)) # Gini = 2*AUC-1\n",
    "\n",
    "\n",
    "print(\"\\nROC Curve\")\n",
    "print(RocCurveDisplay.from_estimator(xgb_clf_oss, X_test, y_test))\n",
    "#RocCurveDisplay.from_estimator(xgb_clf, X_test, y_test)\n",
    "#plt.savefig(r\"E:\\page_ds\\XGBoost_step_by_step\\foto\\2_ROC_cur_clf.png\", format=\"png\" , dpi=300, facecolor=\"White\")\n",
    "\n",
    "print(\"\\nConfusion Matrix\")\n",
    "cm = confusion_matrix(y_test, y_hat_s, labels=xgb_clf_oss.classes_)\n",
    "disp = ConfusionMatrixDisplay(confusion_matrix=cm,\n",
    "                              display_labels=xgb_clf_oss.classes_)\n",
    "print(disp.plot())\n",
    "#wyk = disp.plot()\n",
    "#plt.savefig(r\"E:\\page_ds\\XGBoost_step_by_step\\foto\\1_conf_matrix_clf.png\", format=\"png\" , dpi=300, facecolor=\"White\")\n",
    "#lt.show()"
   ]
  },
  {
   "cell_type": "markdown",
   "id": "26a630c4-9364-477f-897c-a7732af3c62f",
   "metadata": {},
   "source": [
    "Co ciekawe, poprawił się recall! i nieco precyzja!\n",
    "\n",
    "### Teraz analiza za pomocą autoencodera"
   ]
  }
 ],
 "metadata": {
  "kernelspec": {
   "display_name": "Python 3 (ipykernel)",
   "language": "python",
   "name": "python3"
  },
  "language_info": {
   "codemirror_mode": {
    "name": "ipython",
    "version": 3
   },
   "file_extension": ".py",
   "mimetype": "text/x-python",
   "name": "python",
   "nbconvert_exporter": "python",
   "pygments_lexer": "ipython3",
   "version": "3.9.7"
  }
 },
 "nbformat": 4,
 "nbformat_minor": 5
}
